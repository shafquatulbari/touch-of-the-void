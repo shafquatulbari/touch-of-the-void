{
 "cells": [
  {
   "cell_type": "code",
   "execution_count": 1,
   "metadata": {},
   "outputs": [],
   "source": [
    "import os\n",
    "from PIL import Image"
   ]
  },
  {
   "cell_type": "code",
   "execution_count": 14,
   "metadata": {},
   "outputs": [],
   "source": [
    "def convert_grayscale(filename):\n",
    "    name, ext = os.path.splitext(filename)\n",
    "    image = Image.open(filename)\n",
    "    alpha_threshold = 10\n",
    "\n",
    "    # Convert the image to grayscale\n",
    "    grayscale_image = image.convert(\"L\")\n",
    "\n",
    "    # Create a black and white mask based on alpha threshold\n",
    "    mask = grayscale_image.point(lambda x: 0 if x < alpha_threshold else 255)\n",
    "\n",
    "    # Convert the original image to RGBA mode\n",
    "    rgba_image = image.convert(\"RGBA\")\n",
    "\n",
    "    # Composite the mask onto the original image using the alpha channel\n",
    "    bw_image = Image.composite(Image.new(\"RGB\", image.size, \"white\"), Image.new(\"RGB\", image.size, \"black\"), mask)\n",
    "\n",
    "    bw_image.save(f\"{name}_bw{ext}\")"
   ]
  },
  {
   "cell_type": "code",
   "execution_count": 17,
   "metadata": {},
   "outputs": [],
   "source": [
    "convert_grayscale(\"bullet_16x16.png\")"
   ]
  },
  {
   "cell_type": "code",
   "execution_count": null,
   "metadata": {},
   "outputs": [],
   "source": []
  }
 ],
 "metadata": {
  "kernelspec": {
   "display_name": "Python 3",
   "language": "python",
   "name": "python3"
  },
  "language_info": {
   "codemirror_mode": {
    "name": "ipython",
    "version": 3
   },
   "file_extension": ".py",
   "mimetype": "text/x-python",
   "name": "python",
   "nbconvert_exporter": "python",
   "pygments_lexer": "ipython3",
   "version": "3.8.18"
  }
 },
 "nbformat": 4,
 "nbformat_minor": 2
}
