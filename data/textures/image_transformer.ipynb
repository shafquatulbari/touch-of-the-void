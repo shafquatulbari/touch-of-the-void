{
 "cells": [
  {
   "cell_type": "code",
   "execution_count": 1,
   "metadata": {},
   "outputs": [],
   "source": [
    "import os\n",
    "from PIL import Image"
   ]
  },
  {
   "cell_type": "code",
   "execution_count": 7,
   "metadata": {},
   "outputs": [
    {
     "data": {
      "text/plain": [
       "['bullet_8x8.png',\n",
       " 'enemy_spitter_32x32.png',\n",
       " 'image_transformer.ipynb',\n",
       " 'lvl1_background_480x480.png',\n",
       " 'lvl1_doors_96x28.png',\n",
       " 'lvl1_full_wall_closed_door_416x32.png',\n",
       " 'lvl1_full_wall_no_door_416x32.png',\n",
       " 'lvl1_full_wall_open_door_416x32.png',\n",
       " 'lvl1_obstacle_32x32.png',\n",
       " 'lvl1_wall_64x32.png',\n",
       " 'lvl1_wall_end_32x32.png',\n",
       " 'lvl1_wall_top_corner_32x32.png',\n",
       " 'player_32x32.png']"
      ]
     },
     "execution_count": 7,
     "metadata": {},
     "output_type": "execute_result"
    }
   ],
   "source": [
    "filenames = os.listdir()\n",
    "filenames"
   ]
  },
  {
   "cell_type": "code",
   "execution_count": null,
   "metadata": {},
   "outputs": [],
   "source": [
    "img_top_corner = Image.open('lvl1_wall_top_corner_32x32.png') # top right\n",
    "img_top_corner.transpose(Image.FLIP_LEFT_RIGHT).save('left_lvl1_wall_top_corner_32x32.png')"
   ]
  },
  {
   "cell_type": "code",
   "execution_count": 3,
   "metadata": {},
   "outputs": [],
   "source": [
    "def create_rotated_png(file):\n",
    "    img = Image.open(file)\n",
    "    l_img = img.rotate(90, expand=True)\n",
    "    b_img = img.rotate(180, expand=True)\n",
    "    r_img = img.rotate(270, expand=True)\n",
    "\n",
    "    n, ext = os.path.splitext(file)\n",
    "    r_img.save(f'right_{n}{ext}')\n",
    "    b_img.save(f'bottom_{n}{ext}')\n",
    "    l_img.save(f'left_{n}{ext}')"
   ]
  },
  {
   "cell_type": "code",
   "execution_count": 5,
   "metadata": {},
   "outputs": [],
   "source": [
    "create_rotated_png('lvl1_full_wall_open_door_416x32.png')"
   ]
  },
  {
   "cell_type": "code",
   "execution_count": 3,
   "metadata": {},
   "outputs": [],
   "source": [
    "import numpy as np\n",
    "\n",
    "arr = np.array([\n",
    "    [0.5, -1.0],\n",
    "    [0.75, -0.75],\n",
    "    [0.75, -0.5],\n",
    "    [-0.5, 0.75],\n",
    "    [-0.75, 0.75],\n",
    "    [-1.0, 0.5],\n",
    "    [-1.0, 0.25],\n",
    "    [0.25, -1.0],\n",
    "])"
   ]
  },
  {
   "cell_type": "code",
   "execution_count": 4,
   "metadata": {},
   "outputs": [
    {
     "data": {
      "image/png": "[encoded data removed]",
      "text/plain": [
       "<Figure size 432x288 with 1 Axes>"
      ]
     },
     "metadata": {
      "needs_background": "light"
     },
     "output_type": "display_data"
    }
   ],
   "source": [
    "import matplotlib.pyplot as plt\n",
    "\n",
    "plt.scatter(arr[:, 0], arr[:, 1])\n",
    "plt.show()"
   ]
  },
  {
   "cell_type": "code",
   "execution_count": 8,
   "metadata": {},
   "outputs": [
    {
     "data": {
      "image/png": "[encoded data removed]",
      "text/plain": [
       "<Figure size 432x288 with 1 Axes>"
      ]
     },
     "metadata": {
      "needs_background": "light"
     },
     "output_type": "display_data"
    }
   ],
   "source": [
    "arr2 = np.array([\n",
    "    [0.0625, 1.0625],\n",
    "    [0.6875, 1.3125],\n",
    "    [0.875, 2.375],\n",
    "    [0.875, 2.75],\n",
    "    [0.6875, 2.8125],\n",
    "    [0.0, 2.875],\n",
    "    [-0.0625, 2.875],\n",
    "    [-0.75, 2.8125],\n",
    "    [-0.9375, 2.75],\n",
    "    [-0.9375, 2.375],\n",
    "    [-0.75, 1.3125],\n",
    "    [-0.125, 1.0625],\n",
    "])\n",
    "\n",
    "\n",
    "plt.scatter(arr2[:, 0], arr2[:, 1])\n",
    "plt.show()"
   ]
  }
 ],
 "metadata": {
  "kernelspec": {
   "display_name": "Python 3",
   "language": "python",
   "name": "python3"
  },
  "language_info": {
   "codemirror_mode": {
    "name": "ipython",
    "version": 3
   },
   "file_extension": ".py",
   "mimetype": "text/x-python",
   "name": "python",
   "nbconvert_exporter": "python",
   "pygments_lexer": "ipython3",
   "version": "3.8.18"
  }
 },
 "nbformat": 4,
 "nbformat_minor": 2
}
